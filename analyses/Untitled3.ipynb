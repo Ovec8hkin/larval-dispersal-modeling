{
 "cells": [
  {
   "cell_type": "code",
   "execution_count": 2,
   "metadata": {},
   "outputs": [],
   "source": [
    "import netCDF4 as nc\n",
    "import numpy as np\n",
    "import matplotlib.pyplot as plt"
   ]
  },
  {
   "cell_type": "code",
   "execution_count": 9,
   "metadata": {},
   "outputs": [],
   "source": [
    "fname=\"../data/model_sims/baseline/american-butterfish/1984/annual.nc\"\n",
    "dset = nc.Dataset(fname)\n",
    "\n",
    "settled_fname=\"../data/model_sims/baseline/american-butterfish/1984/settlement.nc\"\n",
    "sett_dset = nc.Dataset(settled_fname)\n",
    "settled_particles=sett_dset['settled_particles'][:].data"
   ]
  },
  {
   "cell_type": "code",
   "execution_count": 17,
   "metadata": {},
   "outputs": [],
   "source": [
    "idxs = np.where(settled_particles == 1)[0]"
   ]
  },
  {
   "cell_type": "code",
   "execution_count": 18,
   "metadata": {},
   "outputs": [
    {
     "data": {
      "text/plain": [
       "OrderedDict([('x',\n",
       "              <class 'netCDF4._netCDF4.Variable'>\n",
       "              float64 x(time, nlag)\n",
       "              unlimited dimensions: \n",
       "              current shape = (97, 997856)\n",
       "              filling on, default _FillValue of 9.969209968386869e+36 used),\n",
       "             ('y',\n",
       "              <class 'netCDF4._netCDF4.Variable'>\n",
       "              float64 y(time, nlag)\n",
       "              unlimited dimensions: \n",
       "              current shape = (97, 997856)\n",
       "              filling on, default _FillValue of 9.969209968386869e+36 used),\n",
       "             ('h',\n",
       "              <class 'netCDF4._netCDF4.Variable'>\n",
       "              float64 h(time, nlag)\n",
       "              unlimited dimensions: \n",
       "              current shape = (97, 997856)\n",
       "              filling on, default _FillValue of 9.969209968386869e+36 used),\n",
       "             ('pathlength',\n",
       "              <class 'netCDF4._netCDF4.Variable'>\n",
       "              float64 pathlength(time, nlag)\n",
       "              unlimited dimensions: \n",
       "              current shape = (97, 997856)\n",
       "              filling on, default _FillValue of 9.969209968386869e+36 used),\n",
       "             ('cell',\n",
       "              <class 'netCDF4._netCDF4.Variable'>\n",
       "              float64 cell(time, nlag)\n",
       "              unlimited dimensions: \n",
       "              current shape = (97, 997856)\n",
       "              filling on, default _FillValue of 9.969209968386869e+36 used),\n",
       "             ('u',\n",
       "              <class 'netCDF4._netCDF4.Variable'>\n",
       "              float64 u(time, nlag)\n",
       "              unlimited dimensions: \n",
       "              current shape = (97, 997856)\n",
       "              filling on, default _FillValue of 9.969209968386869e+36 used),\n",
       "             ('v',\n",
       "              <class 'netCDF4._netCDF4.Variable'>\n",
       "              float64 v(time, nlag)\n",
       "              unlimited dimensions: \n",
       "              current shape = (97, 997856)\n",
       "              filling on, default _FillValue of 9.969209968386869e+36 used),\n",
       "             ('w',\n",
       "              <class 'netCDF4._netCDF4.Variable'>\n",
       "              float64 w(time, nlag)\n",
       "              unlimited dimensions: \n",
       "              current shape = (97, 997856)\n",
       "              filling on, default _FillValue of 9.969209968386869e+36 used),\n",
       "             ('z',\n",
       "              <class 'netCDF4._netCDF4.Variable'>\n",
       "              float64 z(time, nlag)\n",
       "              unlimited dimensions: \n",
       "              current shape = (97, 997856)\n",
       "              filling on, default _FillValue of 9.969209968386869e+36 used),\n",
       "             ('s',\n",
       "              <class 'netCDF4._netCDF4.Variable'>\n",
       "              float64 s(time, nlag)\n",
       "              unlimited dimensions: \n",
       "              current shape = (97, 997856)\n",
       "              filling on, default _FillValue of 9.969209968386869e+36 used),\n",
       "             ('status',\n",
       "              <class 'netCDF4._netCDF4.Variable'>\n",
       "              float64 status(time, nlag)\n",
       "              unlimited dimensions: \n",
       "              current shape = (97, 997856)\n",
       "              filling on, default _FillValue of 9.969209968386869e+36 used),\n",
       "             ('PASD',\n",
       "              <class 'netCDF4._netCDF4.Variable'>\n",
       "              float64 PASD(time, nlag)\n",
       "              unlimited dimensions: \n",
       "              current shape = (97, 997856)\n",
       "              filling on, default _FillValue of 9.969209968386869e+36 used),\n",
       "             ('T',\n",
       "              <class 'netCDF4._netCDF4.Variable'>\n",
       "              float64 T(time, nlag)\n",
       "              unlimited dimensions: \n",
       "              current shape = (97, 997856)\n",
       "              filling on, default _FillValue of 9.969209968386869e+36 used),\n",
       "             ('stage',\n",
       "              <class 'netCDF4._netCDF4.Variable'>\n",
       "              float64 stage(time, nlag)\n",
       "              unlimited dimensions: \n",
       "              current shape = (97, 997856)\n",
       "              filling on, default _FillValue of 9.969209968386869e+36 used),\n",
       "             ('diapause',\n",
       "              <class 'netCDF4._netCDF4.Variable'>\n",
       "              float64 diapause(time, nlag)\n",
       "              unlimited dimensions: \n",
       "              current shape = (97, 997856)\n",
       "              filling on, default _FillValue of 9.969209968386869e+36 used),\n",
       "             ('CHL_2DIM',\n",
       "              <class 'netCDF4._netCDF4.Variable'>\n",
       "              float64 CHL_2DIM(time, nlag)\n",
       "              unlimited dimensions: \n",
       "              current shape = (97, 997856)\n",
       "              filling on, default _FillValue of 9.969209968386869e+36 used),\n",
       "             ('month',\n",
       "              <class 'netCDF4._netCDF4.Variable'>\n",
       "              uint64 month(nlag)\n",
       "              unlimited dimensions: \n",
       "              current shape = (997856,)\n",
       "              filling on, default _FillValue of 18446744073709551614 used)])"
      ]
     },
     "execution_count": 18,
     "metadata": {},
     "output_type": "execute_result"
    }
   ],
   "source": [
    "dset.variables"
   ]
  },
  {
   "cell_type": "code",
   "execution_count": 19,
   "metadata": {},
   "outputs": [],
   "source": [
    "depths = dset['h'][:].data"
   ]
  },
  {
   "cell_type": "code",
   "execution_count": 24,
   "metadata": {},
   "outputs": [
    {
     "data": {
      "text/plain": [
       "(array([35599, 40091, 65416, 68490, 48149, 21906, 11724,  6298,  2917,\n",
       "         1742,   749,   372,   263,   209,   149,    94,    38,    39,\n",
       "           11]),\n",
       " array([  0,  10,  20,  30,  40,  50,  60,  70,  80,  90, 100, 110, 120,\n",
       "        130, 140, 150, 160, 170, 180, 190]))"
      ]
     },
     "execution_count": 24,
     "metadata": {},
     "output_type": "execute_result"
    }
   ],
   "source": [
    "np.histogram(depths[0, idxs], bins=np.arange(0, 200, 10))"
   ]
  },
  {
   "cell_type": "code",
   "execution_count": 49,
   "metadata": {},
   "outputs": [],
   "source": [
    "x, y = dset['x'][:].data, dset['y'][:].data\n",
    "x = x[:, 1:]\n",
    "y = y[:, 1:]"
   ]
  },
  {
   "cell_type": "code",
   "execution_count": 30,
   "metadata": {},
   "outputs": [],
   "source": [
    "ps = np.random.choice(idxs, 100)"
   ]
  },
  {
   "cell_type": "code",
   "execution_count": 32,
   "metadata": {},
   "outputs": [],
   "source": [
    "xs = x[:, ps]\n",
    "ys = y[:, ps]"
   ]
  },
  {
   "cell_type": "code",
   "execution_count": 40,
   "metadata": {},
   "outputs": [
    {
     "data": {
      "text/plain": [
       "<matplotlib.collections.PathCollection at 0x2aaaeeb3c6d0>"
      ]
     },
     "execution_count": 40,
     "metadata": {},
     "output_type": "execute_result"
    },
    {
     "data": {
      "image/png": "[encoded data removed]",
      "text/plain": [
       "<Figure size 720x576 with 1 Axes>"
      ]
     },
     "metadata": {
      "needs_background": "light"
     },
     "output_type": "display_data"
    }
   ],
   "source": [
    "fig, ax = plt.subplots(1, 1, figsize=(10, 8))\n",
    "ax.plot(xs, ys)\n",
    "ax.scatter(xs[-1, :], ys[-1, :], s=50)"
   ]
  },
  {
   "cell_type": "code",
   "execution_count": 34,
   "metadata": {},
   "outputs": [
    {
     "data": {
      "text/plain": [
       "array([[666336.57      , 564430.4338    , 688854.3806    , ...,\n",
       "        574339.0359    , 518776.4847    , 534173.6846    ],\n",
       "       [666336.57      , 564430.4338    , 688854.3806    , ...,\n",
       "        574339.0359    , 518776.4847    , 534173.6846    ],\n",
       "       [666336.57      , 564430.4338    , 688854.3806    , ...,\n",
       "        574339.0359    , 518776.4847    , 534122.53386152],\n",
       "       ...,\n",
       "       [463808.6137531 , 482219.10328614, 501274.95518513, ...,\n",
       "        507878.61062598, 474064.16026824, 484103.57251829],\n",
       "       [462040.68243188, 480907.12425065, 506061.9097361 , ...,\n",
       "        507878.61062598, 473146.34807327, 485636.59744023],\n",
       "       [456521.83570566, 482527.97485746, 499195.52114595, ...,\n",
       "        507878.61062598, 471160.26568575, 485482.75253806]])"
      ]
     },
     "execution_count": 34,
     "metadata": {},
     "output_type": "execute_result"
    }
   ],
   "source": [
    "xs"
   ]
  },
  {
   "cell_type": "code",
   "execution_count": 42,
   "metadata": {},
   "outputs": [
    {
     "data": {
      "text/plain": [
       "(array([-240693.4694    , -387249.9531    , -312822.3003    ,\n",
       "        -552298.8765    , -380577.7524    , -636254.4801    ,\n",
       "        -607567.7399    , -245530.1519    , -132963.7871    ,\n",
       "        -257629.392     , -545738.9987    , -561728.9814    ,\n",
       "        -465815.4749    , -285177.0366    , -173328.098     ,\n",
       "        -276746.2114    , -233886.515     , -495981.8242    ,\n",
       "        -452722.3426    , -350777.2051    , -170997.2896    ,\n",
       "        -326896.2964    , -206090.3981    , -285191.9582    ,\n",
       "        -249295.0364    , -402172.6609    ,  134996.6845    ,\n",
       "        -277628.7563    , -427385.9788    , -260237.96      ,\n",
       "        -414840.9353    , -333910.4861    , -421681.20967844,\n",
       "        -136738.0618    , -155821.9923    , -418145.1507    ,\n",
       "        -311044.8366    , -300362.1497    , -231217.93731235,\n",
       "        -398700.156     , -415534.1754    , -399059.1669    ,\n",
       "        -495593.5427    , -321625.0645    , -258959.4604    ,\n",
       "        -284571.6335    , -367368.2198    , -243132.4855    ,\n",
       "        -632500.9446    , -378160.4772    , -449216.9323    ,\n",
       "         257076.6303    , -310364.8208    , -407542.1577    ,\n",
       "        -399714.9341    , -573990.2578    , -551798.6871    ,\n",
       "        -424669.5759    , -357822.4476    , -116802.2511    ,\n",
       "        -576629.5273    , -277766.6426    , -267941.6565    ,\n",
       "         139809.7566    , -390572.4654    , -444201.0317    ,\n",
       "        -474929.8973    , -462386.2321    , -440119.6039    ,\n",
       "        -367387.7596    , -551234.8971    , -407019.0579    ,\n",
       "        -401917.9985    , -387532.5996    , -374815.4119    ,\n",
       "        -153446.989     , -238727.5224    , -365273.8183    ,\n",
       "        -181079.8835    , -584587.3522    , -281835.7273    ,\n",
       "        -405265.5419    , -297284.2495    , -461848.4551    ,\n",
       "        -281252.6385    , -463614.1354    ,  -63110.4853    ,\n",
       "        -262922.0287    , -414870.942     , -553480.1587    ,\n",
       "        -521653.4774    , -437459.4358    , -320399.121     ,\n",
       "        -191858.0013    , -208464.391     , -301229.9105    ,\n",
       "        -352162.6312    , -465480.6819    , -412152.5459    ,\n",
       "        -406238.3757    ]),\n",
       " array([-588571.86457751, -702761.71988632, -720293.92201526,\n",
       "        -642271.28715936, -284378.96136659, -154934.37527082,\n",
       "        -607567.7399    , -344731.89978333, -211587.02669775,\n",
       "        -586380.78056703, -716924.21324304, -695201.48617699,\n",
       "        -651298.2268073 , -585589.04787395, -229931.57723956,\n",
       "        -723841.54249717, -586542.43570081, -372547.74665603,\n",
       "        -380497.34374555, -467029.42610999, -696201.01843827,\n",
       "        -691973.29546546, -696800.12691943, -366559.81587997,\n",
       "        -275997.02981   , -487600.07860553,  144443.20489024,\n",
       "        -245556.80481885, -704786.19104759, -725180.13613173,\n",
       "        -625688.80356485, -646419.18803709, -576679.12682059,\n",
       "        -176397.501551  , -153148.39454308, -462596.40884427,\n",
       "        -330905.44686207, -735465.0693876 , -352773.49083318,\n",
       "        -576603.29605816, -550077.07862269, -366969.20078396,\n",
       "        -756340.55207772, -702996.6681969 , -258910.64582022,\n",
       "        -467740.57721064, -702334.40066338, -243132.4855    ,\n",
       "        -632500.9446    , -378160.4772    , -380712.39655557,\n",
       "         230729.93602747, -716920.60057269, -366752.95466975,\n",
       "        -723565.28102737, -723481.88389784, -423881.69755048,\n",
       "        -608025.24325642, -375444.25410838, -122014.46385034,\n",
       "        -725169.35051759, -407067.38699285, -723348.01353423,\n",
       "        -247109.93025601, -682236.74426869, -751952.45242129,\n",
       "        -724179.92490277, -462386.2321    , -624506.07874755,\n",
       "        -624409.36819232, -704341.22425804, -380555.93412196,\n",
       "        -484822.95586738, -344348.843691  , -625552.74777049,\n",
       "        -128669.89069101, -626564.22809727, -577266.88325101,\n",
       "        -236856.82258941, -730151.8396749 , -659518.8601776 ,\n",
       "        -756497.54101418, -543806.86218797, -751412.09391569,\n",
       "        -407869.11066294, -379951.96460827,  -44099.47252038,\n",
       "        -370391.54661699, -723523.75449201, -722411.12338524,\n",
       "        -642246.58911019, -636965.33153462, -341922.93863412,\n",
       "        -146258.78717585, -413825.13408021, -616041.2025326 ,\n",
       "        -436503.92754926, -737314.15748798, -489567.37889656,\n",
       "        -471380.42141186]))"
      ]
     },
     "execution_count": 42,
     "metadata": {},
     "output_type": "execute_result"
    }
   ],
   "source": [
    "ys[0, :], ys[-1, :]"
   ]
  },
  {
   "cell_type": "code",
   "execution_count": 52,
   "metadata": {},
   "outputs": [
    {
     "data": {
      "text/plain": [
       "0.175145401373509"
      ]
     },
     "execution_count": 52,
     "metadata": {},
     "output_type": "execute_result"
    }
   ],
   "source": [
    "len(np.where(y[-1, idxs] - y[0, idxs] > 0)[0])/len(idxs)"
   ]
  },
  {
   "cell_type": "code",
   "execution_count": 48,
   "metadata": {},
   "outputs": [
    {
     "data": {
      "text/plain": [
       "(97, 100)"
      ]
     },
     "execution_count": 48,
     "metadata": {},
     "output_type": "execute_result"
    }
   ],
   "source": [
    "xs.shape"
   ]
  },
  {
   "cell_type": "code",
   "execution_count": 53,
   "metadata": {},
   "outputs": [],
   "source": [
    "import pandas as pd"
   ]
  },
  {
   "cell_type": "code",
   "execution_count": 57,
   "metadata": {},
   "outputs": [],
   "source": [
    "sett_data = pd.read_csv(\"../data/model_sims/baseline/american-butterfish/settled_data.csv\")\n",
    "sett_data = sett_data[sett_data.settled_particles == 1]"
   ]
  },
  {
   "cell_type": "code",
   "execution_count": 58,
   "metadata": {},
   "outputs": [],
   "source": [
    "init_lat, final_lat = sett_data['init_lats'].to_numpy(), sett_data['final_lats'].to_numpy()"
   ]
  },
  {
   "cell_type": "code",
   "execution_count": 63,
   "metadata": {},
   "outputs": [
    {
     "data": {
      "text/plain": [
       "0.3232467451746251"
      ]
     },
     "execution_count": 63,
     "metadata": {},
     "output_type": "execute_result"
    }
   ],
   "source": [
    "np.sum(final_lat - init_lat > 0, axis=0)/len(final_lat)"
   ]
  },
  {
   "cell_type": "code",
   "execution_count": 64,
   "metadata": {},
   "outputs": [
    {
     "data": {
      "text/html": [
       "<div>\n",
       "<style scoped>\n",
       "    .dataframe tbody tr th:only-of-type {\n",
       "        vertical-align: middle;\n",
       "    }\n",
       "\n",
       "    .dataframe tbody tr th {\n",
       "        vertical-align: top;\n",
       "    }\n",
       "\n",
       "    .dataframe thead th {\n",
       "        text-align: right;\n",
       "    }\n",
       "</style>\n",
       "<table border=\"1\" class=\"dataframe\">\n",
       "  <thead>\n",
       "    <tr style=\"text-align: right;\">\n",
       "      <th></th>\n",
       "      <th>Unnamed: 0</th>\n",
       "      <th>init_lons</th>\n",
       "      <th>init_lats</th>\n",
       "      <th>init_times</th>\n",
       "      <th>init_region</th>\n",
       "      <th>final_lons</th>\n",
       "      <th>final_lats</th>\n",
       "      <th>final_times</th>\n",
       "      <th>final_region</th>\n",
       "      <th>years</th>\n",
       "      <th>settled_particles</th>\n",
       "    </tr>\n",
       "  </thead>\n",
       "  <tbody>\n",
       "    <tr>\n",
       "      <th>6</th>\n",
       "      <td>13</td>\n",
       "      <td>-75.011568</td>\n",
       "      <td>36.612315</td>\n",
       "      <td>144.0</td>\n",
       "      <td>Mid-Atlantic Bight</td>\n",
       "      <td>-75.011563</td>\n",
       "      <td>36.612308</td>\n",
       "      <td>198.0</td>\n",
       "      <td>Mid-Atlantic Bight</td>\n",
       "      <td>1984.0</td>\n",
       "      <td>1.0</td>\n",
       "    </tr>\n",
       "    <tr>\n",
       "      <th>10</th>\n",
       "      <td>19</td>\n",
       "      <td>-75.015289</td>\n",
       "      <td>36.615215</td>\n",
       "      <td>151.0</td>\n",
       "      <td>Mid-Atlantic Bight</td>\n",
       "      <td>-75.015286</td>\n",
       "      <td>36.615213</td>\n",
       "      <td>199.0</td>\n",
       "      <td>Mid-Atlantic Bight</td>\n",
       "      <td>1984.0</td>\n",
       "      <td>1.0</td>\n",
       "    </tr>\n",
       "    <tr>\n",
       "      <th>12</th>\n",
       "      <td>21</td>\n",
       "      <td>-75.011322</td>\n",
       "      <td>36.610884</td>\n",
       "      <td>135.0</td>\n",
       "      <td>Mid-Atlantic Bight</td>\n",
       "      <td>-75.011314</td>\n",
       "      <td>36.610884</td>\n",
       "      <td>182.0</td>\n",
       "      <td>Mid-Atlantic Bight</td>\n",
       "      <td>1984.0</td>\n",
       "      <td>1.0</td>\n",
       "    </tr>\n",
       "    <tr>\n",
       "      <th>14</th>\n",
       "      <td>23</td>\n",
       "      <td>-75.005548</td>\n",
       "      <td>36.606069</td>\n",
       "      <td>140.0</td>\n",
       "      <td>Mid-Atlantic Bight</td>\n",
       "      <td>-75.005542</td>\n",
       "      <td>36.606068</td>\n",
       "      <td>189.0</td>\n",
       "      <td>Mid-Atlantic Bight</td>\n",
       "      <td>1984.0</td>\n",
       "      <td>1.0</td>\n",
       "    </tr>\n",
       "    <tr>\n",
       "      <th>18</th>\n",
       "      <td>29</td>\n",
       "      <td>-75.008238</td>\n",
       "      <td>36.612288</td>\n",
       "      <td>147.0</td>\n",
       "      <td>Mid-Atlantic Bight</td>\n",
       "      <td>-72.809219</td>\n",
       "      <td>38.452049</td>\n",
       "      <td>201.0</td>\n",
       "      <td>Off-Shelf</td>\n",
       "      <td>1984.0</td>\n",
       "      <td>1.0</td>\n",
       "    </tr>\n",
       "    <tr>\n",
       "      <th>...</th>\n",
       "      <td>...</td>\n",
       "      <td>...</td>\n",
       "      <td>...</td>\n",
       "      <td>...</td>\n",
       "      <td>...</td>\n",
       "      <td>...</td>\n",
       "      <td>...</td>\n",
       "      <td>...</td>\n",
       "      <td>...</td>\n",
       "      <td>...</td>\n",
       "      <td>...</td>\n",
       "    </tr>\n",
       "    <tr>\n",
       "      <th>4388747</th>\n",
       "      <td>4989829</td>\n",
       "      <td>NaN</td>\n",
       "      <td>NaN</td>\n",
       "      <td>NaN</td>\n",
       "      <td>NaN</td>\n",
       "      <td>-64.122992</td>\n",
       "      <td>45.216445</td>\n",
       "      <td>215.0</td>\n",
       "      <td>Bay of Fundy</td>\n",
       "      <td>1988.0</td>\n",
       "      <td>1.0</td>\n",
       "    </tr>\n",
       "    <tr>\n",
       "      <th>4388748</th>\n",
       "      <td>4989830</td>\n",
       "      <td>-63.433438</td>\n",
       "      <td>45.363464</td>\n",
       "      <td>170.0</td>\n",
       "      <td>Bay of Fundy</td>\n",
       "      <td>-64.554368</td>\n",
       "      <td>45.387100</td>\n",
       "      <td>220.0</td>\n",
       "      <td>Bay of Fundy</td>\n",
       "      <td>1988.0</td>\n",
       "      <td>1.0</td>\n",
       "    </tr>\n",
       "    <tr>\n",
       "      <th>4388749</th>\n",
       "      <td>4989831</td>\n",
       "      <td>-63.429493</td>\n",
       "      <td>45.362933</td>\n",
       "      <td>165.0</td>\n",
       "      <td>Bay of Fundy</td>\n",
       "      <td>-63.721638</td>\n",
       "      <td>45.376554</td>\n",
       "      <td>218.0</td>\n",
       "      <td>Bay of Fundy</td>\n",
       "      <td>1988.0</td>\n",
       "      <td>1.0</td>\n",
       "    </tr>\n",
       "    <tr>\n",
       "      <th>4388750</th>\n",
       "      <td>4989832</td>\n",
       "      <td>NaN</td>\n",
       "      <td>NaN</td>\n",
       "      <td>NaN</td>\n",
       "      <td>NaN</td>\n",
       "      <td>-63.708533</td>\n",
       "      <td>45.350132</td>\n",
       "      <td>218.0</td>\n",
       "      <td>Bay of Fundy</td>\n",
       "      <td>1988.0</td>\n",
       "      <td>1.0</td>\n",
       "    </tr>\n",
       "    <tr>\n",
       "      <th>4388751</th>\n",
       "      <td>4989833</td>\n",
       "      <td>NaN</td>\n",
       "      <td>NaN</td>\n",
       "      <td>NaN</td>\n",
       "      <td>NaN</td>\n",
       "      <td>-63.978641</td>\n",
       "      <td>45.341299</td>\n",
       "      <td>207.0</td>\n",
       "      <td>Bay of Fundy</td>\n",
       "      <td>1988.0</td>\n",
       "      <td>1.0</td>\n",
       "    </tr>\n",
       "  </tbody>\n",
       "</table>\n",
       "<p>2220242 rows × 11 columns</p>\n",
       "</div>"
      ],
      "text/plain": [
       "         Unnamed: 0  init_lons  init_lats  init_times         init_region  \\\n",
       "6                13 -75.011568  36.612315       144.0  Mid-Atlantic Bight   \n",
       "10               19 -75.015289  36.615215       151.0  Mid-Atlantic Bight   \n",
       "12               21 -75.011322  36.610884       135.0  Mid-Atlantic Bight   \n",
       "14               23 -75.005548  36.606069       140.0  Mid-Atlantic Bight   \n",
       "18               29 -75.008238  36.612288       147.0  Mid-Atlantic Bight   \n",
       "...             ...        ...        ...         ...                 ...   \n",
       "4388747     4989829        NaN        NaN         NaN                 NaN   \n",
       "4388748     4989830 -63.433438  45.363464       170.0        Bay of Fundy   \n",
       "4388749     4989831 -63.429493  45.362933       165.0        Bay of Fundy   \n",
       "4388750     4989832        NaN        NaN         NaN                 NaN   \n",
       "4388751     4989833        NaN        NaN         NaN                 NaN   \n",
       "\n",
       "         final_lons  final_lats  final_times        final_region   years  \\\n",
       "6        -75.011563   36.612308        198.0  Mid-Atlantic Bight  1984.0   \n",
       "10       -75.015286   36.615213        199.0  Mid-Atlantic Bight  1984.0   \n",
       "12       -75.011314   36.610884        182.0  Mid-Atlantic Bight  1984.0   \n",
       "14       -75.005542   36.606068        189.0  Mid-Atlantic Bight  1984.0   \n",
       "18       -72.809219   38.452049        201.0           Off-Shelf  1984.0   \n",
       "...             ...         ...          ...                 ...     ...   \n",
       "4388747  -64.122992   45.216445        215.0        Bay of Fundy  1988.0   \n",
       "4388748  -64.554368   45.387100        220.0        Bay of Fundy  1988.0   \n",
       "4388749  -63.721638   45.376554        218.0        Bay of Fundy  1988.0   \n",
       "4388750  -63.708533   45.350132        218.0        Bay of Fundy  1988.0   \n",
       "4388751  -63.978641   45.341299        207.0        Bay of Fundy  1988.0   \n",
       "\n",
       "         settled_particles  \n",
       "6                      1.0  \n",
       "10                     1.0  \n",
       "12                     1.0  \n",
       "14                     1.0  \n",
       "18                     1.0  \n",
       "...                    ...  \n",
       "4388747                1.0  \n",
       "4388748                1.0  \n",
       "4388749                1.0  \n",
       "4388750                1.0  \n",
       "4388751                1.0  \n",
       "\n",
       "[2220242 rows x 11 columns]"
      ]
     },
     "execution_count": 64,
     "metadata": {},
     "output_type": "execute_result"
    }
   ],
   "source": [
    "sett_data"
   ]
  },
  {
   "cell_type": "code",
   "execution_count": 65,
   "metadata": {},
   "outputs": [],
   "source": [
    "northward_connections = {\n",
    "    \"Mid-Atlantic Bight\": [\"Southern New England\", \"Georges Bank\", \"Gulf of Maine\", \"Bay of Fundy\", \"Scotian Shelf\"],\n",
    "    \"Southern New England\": [\"Georges Bank\", \"Gulf of Maine\", \"Bay of Fundy\", \"Scotian Shelf\"],\n",
    "    \"Georges Bank\": [\"Gulf of Maine\", \"Bay of Fundy\", \"Scotian Shelf\"],\n",
    "    \"Gulf of Maine\": [\"Bay of Fundy\", \"Scotian Shelf\"],\n",
    "    \"Bay of Fundy\": [\"Scotian Shelf\"]\n",
    "}"
   ]
  },
  {
   "cell_type": "code",
   "execution_count": 66,
   "metadata": {},
   "outputs": [],
   "source": [
    "k = \"Mid-Atlantic Bight\""
   ]
  },
  {
   "cell_type": "code",
   "execution_count": 76,
   "metadata": {},
   "outputs": [
    {
     "name": "stdout",
     "output_type": "stream",
     "text": [
      "144118\n",
      "11488\n",
      "4110\n",
      "234\n",
      "0\n"
     ]
    }
   ],
   "source": [
    "for k in northward_connections.keys():\n",
    "    print(len(sett_data[((sett_data.init_region == k) & (sett_data.final_region.isin(northward_connections[k])))]))"
   ]
  },
  {
   "cell_type": "code",
   "execution_count": 77,
   "metadata": {},
   "outputs": [
    {
     "data": {
      "text/plain": [
       "2220242"
      ]
     },
     "execution_count": 77,
     "metadata": {},
     "output_type": "execute_result"
    }
   ],
   "source": [
    "len(sett_data)"
   ]
  },
  {
   "cell_type": "code",
   "execution_count": 99,
   "metadata": {},
   "outputs": [],
   "source": [
    "ps = []\n",
    "for y in range(1984, 1989):\n",
    "    d = sett_data[sett_data.years == y]\n",
    "    ps.append(len(d[((d.final_region == \"Bay of Fundy\") & (d.init_region == \"Southern New England\"))])/len(d[((d.final_region == \"Bay of Fundy\"))]))"
   ]
  },
  {
   "cell_type": "code",
   "execution_count": 100,
   "metadata": {},
   "outputs": [
    {
     "data": {
      "text/plain": [
       "0.22579676405540683"
      ]
     },
     "execution_count": 100,
     "metadata": {},
     "output_type": "execute_result"
    }
   ],
   "source": [
    "np.mean(np.array(ps))"
   ]
  },
  {
   "cell_type": "code",
   "execution_count": null,
   "metadata": {},
   "outputs": [],
   "source": []
  }
 ],
 "metadata": {
  "kernelspec": {
   "display_name": "Python 3",
   "language": "python",
   "name": "python3"
  },
  "language_info": {
   "codemirror_mode": {
    "name": "ipython",
    "version": 3
   },
   "file_extension": ".py",
   "mimetype": "text/x-python",
   "name": "python",
   "nbconvert_exporter": "python",
   "pygments_lexer": "ipython3",
   "version": "3.7.7"
  }
 },
 "nbformat": 4,
 "nbformat_minor": 4
}
